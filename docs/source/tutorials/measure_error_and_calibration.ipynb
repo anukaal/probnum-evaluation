{
 "cells": [
  {
   "cell_type": "code",
   "execution_count": null,
   "id": "confused-entity",
   "metadata": {},
   "outputs": [],
   "source": []
  },
  {
   "cell_type": "code",
   "execution_count": null,
   "id": "sapphire-neighborhood",
   "metadata": {},
   "outputs": [],
   "source": []
  },
  {
   "cell_type": "code",
   "execution_count": 1,
   "id": "incoming-dryer",
   "metadata": {},
   "outputs": [],
   "source": [
    "from probnum import quad, diffeq\n",
    "import numpy as np\n",
    "\n",
    "np.random.seed(1)"
   ]
  },
  {
   "cell_type": "code",
   "execution_count": 2,
   "id": "processed-principal",
   "metadata": {},
   "outputs": [],
   "source": [
    "input_dim = 1\n",
    "domain = (0, np.pi)\n",
    "\n",
    "# Define the integrand\n",
    "def f(x):\n",
    "    return np.sin(x)\n",
    "\n",
    "# True solution of \\int_0^\\pi sin(x) dx is 2.0\n",
    "sol = 2.0"
   ]
  },
  {
   "cell_type": "code",
   "execution_count": 3,
   "id": "minus-sequence",
   "metadata": {},
   "outputs": [],
   "source": [
    "F, info = quad.bayesquad(fun=f, input_dim=input_dim, domain=domain, nevals=5)"
   ]
  },
  {
   "cell_type": "code",
   "execution_count": 4,
   "id": "closing-consensus",
   "metadata": {},
   "outputs": [],
   "source": [
    "from probnumeval import multivariate, config, timeseries\n",
    "\n",
    "config.set_covariance_inversion_parameters(strategy=\"pinv\", symmetrize=True, damping=0.)"
   ]
  },
  {
   "cell_type": "code",
   "execution_count": 5,
   "id": "federal-separate",
   "metadata": {},
   "outputs": [],
   "source": [
    "rmse = multivariate.rmse(F.mean, reference_solution=sol)\n",
    "relative_rmse = multivariate.relative_rmse(F.mean, reference_solution=sol)"
   ]
  },
  {
   "cell_type": "code",
   "execution_count": 6,
   "id": "formal-north",
   "metadata": {},
   "outputs": [
    {
     "data": {
      "text/plain": [
       "(0.06127865361488327, 0.030639326807441636)"
      ]
     },
     "execution_count": 6,
     "metadata": {},
     "output_type": "execute_result"
    }
   ],
   "source": [
    "rmse, relative_rmse"
   ]
  },
  {
   "cell_type": "code",
   "execution_count": 7,
   "id": "finnish-organ",
   "metadata": {},
   "outputs": [],
   "source": [
    "anees = multivariate.anees(F, reference_solution=sol)"
   ]
  },
  {
   "cell_type": "code",
   "execution_count": 8,
   "id": "floral-switzerland",
   "metadata": {},
   "outputs": [
    {
     "data": {
      "text/plain": [
       "0.12591126045245507"
      ]
     },
     "execution_count": 8,
     "metadata": {},
     "output_type": "execute_result"
    }
   ],
   "source": [
    "anees"
   ]
  },
  {
   "cell_type": "code",
   "execution_count": null,
   "id": "agreed-meter",
   "metadata": {},
   "outputs": [],
   "source": []
  },
  {
   "cell_type": "code",
   "execution_count": 27,
   "id": "lightweight-business",
   "metadata": {},
   "outputs": [],
   "source": [
    "def f(t, x):\n",
    "    return x*(1-x)\n",
    "\n",
    "y0 = np.array([0.5])\n",
    "\n",
    "\n",
    "t0 = 0.\n",
    "tmax = 5.\n",
    "\n",
    "\n",
    "def sol(t):\n",
    "    return (y0 * np.exp(t)) / (1 + y0 * (np.exp(t) - 1))\n",
    "    \n",
    "    \n"
   ]
  },
  {
   "cell_type": "code",
   "execution_count": 28,
   "id": "reasonable-champagne",
   "metadata": {},
   "outputs": [],
   "source": [
    "pnsol = diffeq.probsolve_ivp(f, y0=y0, t0=t0, tmax=tmax)"
   ]
  },
  {
   "cell_type": "code",
   "execution_count": 29,
   "id": "instructional-penetration",
   "metadata": {},
   "outputs": [],
   "source": [
    "approx_sol = pnsol.states[1:]\n",
    "true_sol = sol(pnsol.locations[1:])[:, None]\n"
   ]
  },
  {
   "cell_type": "code",
   "execution_count": 30,
   "id": "outstanding-being",
   "metadata": {},
   "outputs": [],
   "source": [
    "rmse = multivariate.mae(approx_sol.mean, true_sol)\n",
    "rel_rmse = multivariate.relative_mae(approx_sol.mean, true_sol)"
   ]
  },
  {
   "cell_type": "code",
   "execution_count": 31,
   "id": "destroyed-choir",
   "metadata": {},
   "outputs": [
    {
     "data": {
      "text/plain": [
       "(0.0006241640303712251, 0.0006614154047129657)"
      ]
     },
     "execution_count": 31,
     "metadata": {},
     "output_type": "execute_result"
    }
   ],
   "source": [
    "rmse, rel_rmse"
   ]
  },
  {
   "cell_type": "code",
   "execution_count": 32,
   "id": "sustainable-clone",
   "metadata": {},
   "outputs": [],
   "source": [
    "nci = multivariate.non_credibility_index(approx_sol, true_sol)\n",
    "ii = multivariate.inclination_index(approx_sol, true_sol)"
   ]
  },
  {
   "cell_type": "code",
   "execution_count": 33,
   "id": "partial-latitude",
   "metadata": {},
   "outputs": [
    {
     "data": {
      "text/plain": [
       "12.803778627298394"
      ]
     },
     "execution_count": 33,
     "metadata": {},
     "output_type": "execute_result"
    }
   ],
   "source": [
    "nci"
   ]
  },
  {
   "cell_type": "code",
   "execution_count": null,
   "id": "restricted-paris",
   "metadata": {},
   "outputs": [],
   "source": []
  },
  {
   "cell_type": "code",
   "execution_count": 47,
   "id": "certified-secretariat",
   "metadata": {},
   "outputs": [],
   "source": [
    "def sol_x(*args, **kwargs):\n",
    "    return sol(*args, **kwargs)[:, None]\n",
    "\n",
    "\n",
    "def sol_mean(*args, **kwargs):\n",
    "    return pnsol(*args, **kwargs).mean\n",
    "\n",
    "\n",
    "max_error = timeseries.max_error(sol_mean, sol_x, locations=pnsol.locations[1:])\n",
    "relative_max_error = timeseries.non_credibility_index(pnsol, sol_x, locations=pnsol.locations[1:])\n",
    "\n"
   ]
  },
  {
   "cell_type": "code",
   "execution_count": 48,
   "id": "sacred-mobile",
   "metadata": {},
   "outputs": [
    {
     "data": {
      "text/plain": [
       "0.0015952883352697844"
      ]
     },
     "execution_count": 48,
     "metadata": {},
     "output_type": "execute_result"
    }
   ],
   "source": [
    "max_error"
   ]
  },
  {
   "cell_type": "code",
   "execution_count": null,
   "id": "front-amber",
   "metadata": {},
   "outputs": [],
   "source": []
  }
 ],
 "metadata": {
  "kernelspec": {
   "display_name": "Python 3",
   "language": "python",
   "name": "python3"
  },
  "language_info": {
   "codemirror_mode": {
    "name": "ipython",
    "version": 3
   },
   "file_extension": ".py",
   "mimetype": "text/x-python",
   "name": "python",
   "nbconvert_exporter": "python",
   "pygments_lexer": "ipython3",
   "version": "3.8.5"
  }
 },
 "nbformat": 4,
 "nbformat_minor": 5
}
