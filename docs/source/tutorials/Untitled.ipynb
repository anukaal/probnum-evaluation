{
 "cells": [
  {
   "cell_type": "code",
   "execution_count": 1,
   "id": "similar-colony",
   "metadata": {},
   "outputs": [],
   "source": [
    "from probnum import quad\n",
    "import numpy as np\n",
    "\n",
    "np.random.seed(1)\n"
   ]
  },
  {
   "cell_type": "code",
   "execution_count": 2,
   "id": "shaped-allocation",
   "metadata": {},
   "outputs": [],
   "source": [
    "input_dim = 1\n",
    "domain = (0, np.pi)\n",
    "\n",
    "# Define the integrand\n",
    "def f(x):\n",
    "    return np.sin(x)\n",
    "\n",
    "# True solution of \\int_0^\\pi sin(x) dx is 2.0\n",
    "sol = 2.0"
   ]
  },
  {
   "cell_type": "code",
   "execution_count": 3,
   "id": "russian-above",
   "metadata": {},
   "outputs": [],
   "source": [
    "F, info = quad.bayesquad(fun=f, input_dim=input_dim, domain=domain, nevals=5)"
   ]
  },
  {
   "cell_type": "code",
   "execution_count": 4,
   "id": "beneficial-attack",
   "metadata": {},
   "outputs": [],
   "source": [
    "from probnumeval import multivariate"
   ]
  },
  {
   "cell_type": "code",
   "execution_count": 5,
   "id": "satellite-authority",
   "metadata": {},
   "outputs": [],
   "source": [
    "rmse = multivariate.rmse(F.mean, reference_solution=sol)\n",
    "relative_rmse = multivariate.relative_rmse(F.mean, reference_solution=sol)"
   ]
  },
  {
   "cell_type": "code",
   "execution_count": 6,
   "id": "necessary-addiction",
   "metadata": {},
   "outputs": [
    {
     "data": {
      "text/plain": [
       "(0.06127865361488327, 0.030639326807441636)"
      ]
     },
     "execution_count": 6,
     "metadata": {},
     "output_type": "execute_result"
    }
   ],
   "source": [
    "rmse, relative_rmse"
   ]
  },
  {
   "cell_type": "code",
   "execution_count": 7,
   "id": "infrared-account",
   "metadata": {},
   "outputs": [
    {
     "ename": "TypeError",
     "evalue": "'numpy.float64' object is not iterable",
     "output_type": "error",
     "traceback": [
      "\u001b[0;31m---------------------------------------------------------------------------\u001b[0m",
      "\u001b[0;31mTypeError\u001b[0m                                 Traceback (most recent call last)",
      "\u001b[0;32m<ipython-input-7-82b48c75fe2a>\u001b[0m in \u001b[0;36m<module>\u001b[0;34m\u001b[0m\n\u001b[0;32m----> 1\u001b[0;31m \u001b[0manees\u001b[0m \u001b[0;34m=\u001b[0m \u001b[0mmultivariate\u001b[0m\u001b[0;34m.\u001b[0m\u001b[0manees\u001b[0m\u001b[0;34m(\u001b[0m\u001b[0mF\u001b[0m\u001b[0;34m,\u001b[0m \u001b[0mreference_solution\u001b[0m\u001b[0;34m=\u001b[0m\u001b[0msol\u001b[0m\u001b[0;34m)\u001b[0m\u001b[0;34m\u001b[0m\u001b[0;34m\u001b[0m\u001b[0m\n\u001b[0m",
      "\u001b[0;32m~/Programmes/probnum/probnum-evaluation/src/probnumeval/multivariate/_calibration_measures.py\u001b[0m in \u001b[0;36manees\u001b[0;34m(approximate_solution, reference_solution)\u001b[0m\n\u001b[1;32m     65\u001b[0m     \u001b[0mcov_matrices\u001b[0m \u001b[0;34m=\u001b[0m \u001b[0mapproximate_solution\u001b[0m\u001b[0;34m.\u001b[0m\u001b[0mcov\u001b[0m\u001b[0;34m\u001b[0m\u001b[0;34m\u001b[0m\u001b[0m\n\u001b[1;32m     66\u001b[0m     \u001b[0mcentered_mean\u001b[0m \u001b[0;34m=\u001b[0m \u001b[0mapproximate_solution\u001b[0m\u001b[0;34m.\u001b[0m\u001b[0mmean\u001b[0m \u001b[0;34m-\u001b[0m \u001b[0mreference_solution\u001b[0m\u001b[0;34m\u001b[0m\u001b[0;34m\u001b[0m\u001b[0m\n\u001b[0;32m---> 67\u001b[0;31m     normalized_discrepancies = _compute_normalized_discrepancies(\n\u001b[0m\u001b[1;32m     68\u001b[0m         \u001b[0mcentered_mean\u001b[0m\u001b[0;34m,\u001b[0m \u001b[0mcov_matrices\u001b[0m\u001b[0;34m\u001b[0m\u001b[0;34m\u001b[0m\u001b[0m\n\u001b[1;32m     69\u001b[0m     )\n",
      "\u001b[0;32m~/Programmes/probnum/probnum-evaluation/src/probnumeval/multivariate/_calibration_measures.py\u001b[0m in \u001b[0;36m_compute_normalized_discrepancies\u001b[0;34m(centered_mean, cov_matrices)\u001b[0m\n\u001b[1;32m    183\u001b[0m         [\n\u001b[1;32m    184\u001b[0m             \u001b[0m_compute_normalized_discrepancy\u001b[0m\u001b[0;34m(\u001b[0m\u001b[0mm\u001b[0m\u001b[0;34m,\u001b[0m \u001b[0mC\u001b[0m\u001b[0;34m)\u001b[0m\u001b[0;34m\u001b[0m\u001b[0;34m\u001b[0m\u001b[0m\n\u001b[0;32m--> 185\u001b[0;31m             \u001b[0;32mfor\u001b[0m \u001b[0;34m(\u001b[0m\u001b[0mm\u001b[0m\u001b[0;34m,\u001b[0m \u001b[0mC\u001b[0m\u001b[0;34m)\u001b[0m \u001b[0;32min\u001b[0m \u001b[0mzip\u001b[0m\u001b[0;34m(\u001b[0m\u001b[0mcentered_mean\u001b[0m\u001b[0;34m,\u001b[0m \u001b[0mcov_matrices\u001b[0m\u001b[0;34m)\u001b[0m\u001b[0;34m\u001b[0m\u001b[0;34m\u001b[0m\u001b[0m\n\u001b[0m\u001b[1;32m    186\u001b[0m         ]\n\u001b[1;32m    187\u001b[0m     )\n",
      "\u001b[0;31mTypeError\u001b[0m: 'numpy.float64' object is not iterable"
     ]
    }
   ],
   "source": [
    "anees = multivariate.anees(F, reference_solution=sol)"
   ]
  },
  {
   "cell_type": "code",
   "execution_count": null,
   "id": "outstanding-wisdom",
   "metadata": {},
   "outputs": [],
   "source": []
  },
  {
   "cell_type": "code",
   "execution_count": null,
   "id": "ceramic-preserve",
   "metadata": {},
   "outputs": [],
   "source": []
  },
  {
   "cell_type": "code",
   "execution_count": null,
   "id": "technological-summer",
   "metadata": {},
   "outputs": [],
   "source": []
  },
  {
   "cell_type": "code",
   "execution_count": null,
   "id": "returning-albuquerque",
   "metadata": {},
   "outputs": [],
   "source": []
  },
  {
   "cell_type": "code",
   "execution_count": null,
   "id": "usual-alaska",
   "metadata": {},
   "outputs": [],
   "source": []
  }
 ],
 "metadata": {
  "kernelspec": {
   "display_name": "Python 3",
   "language": "python",
   "name": "python3"
  },
  "language_info": {
   "codemirror_mode": {
    "name": "ipython",
    "version": 3
   },
   "file_extension": ".py",
   "mimetype": "text/x-python",
   "name": "python",
   "nbconvert_exporter": "python",
   "pygments_lexer": "ipython3",
   "version": "3.8.5"
  }
 },
 "nbformat": 4,
 "nbformat_minor": 5
}
